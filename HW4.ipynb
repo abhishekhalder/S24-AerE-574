{
  "metadata": {
    "kernelspec": {
      "name": "python",
      "display_name": "Python (Pyodide)",
      "language": "python"
    },
    "language_info": {
      "codemirror_mode": {
        "name": "python",
        "version": 3
      },
      "file_extension": ".py",
      "mimetype": "text/x-python",
      "name": "python",
      "nbconvert_exporter": "python",
      "pygments_lexer": "ipython3",
      "version": "3.8"
    }
  },
  "nbformat_minor": 4,
  "nbformat": 4,
  "cells": [
    {
      "cell_type": "markdown",
      "source": "# Problem 1 [50 points] Minimum Energy State Transfer for Nonlinear System",
      "metadata": {}
    },
    {
      "cell_type": "markdown",
      "source": "## (a) [10 points] Warm up exercise on LTV ODE\nThis basic ODE exercise does not require any knowledge of control theory, but will soon be useful in a nonlinear OCP that follows. \n\nConsider a linear time varying (LTV) ODE initial value problem (IVP) in unknown $z(t)\\in\\mathbb{R}^{m}$, given by\n$$\\dot{z} = \\Omega(t)z, \\quad z(0) = z_{0}\\;\\text{(known initial vector)},$$\nwhere $\\Omega(t)$ is given time-varying skew-symmetric matrix of size $m\\times m$. **Prove that** the IVP solution is of the form\n$$z(t) = Q(t)z_{0}, \\quad \\text{where matrix}\\;Q(t)\\;\\text{orthogonal for all time}\\; t.$$\n**Hint:** Think about the state transition matrix (Lec. 9 p. 7-8).",
      "metadata": {}
    },
    {
      "cell_type": "markdown",
      "source": "## (b) [10 + 2 + 3 = 15 points] Nonlinear OCP\n(i) Consider a nonlinear OCP with **final time** $T$ **fixed**, given by\n\\begin{align*}\n&\\underset{u(\\cdot)}{\\min}\\;\\int_{0}^{T}\\frac{1}{2}\\|u\\|_{2}^{2}\\;{\\mathrm{d}}t\\\\\n& \\dot{x} = F(x)u, \\quad F(x):= \\begin{bmatrix}\nf_{1}(x), f_{2}(x), ..., f_{m}(x)\n\\end{bmatrix}\\in\\mathbb{R}^{n\\times m}, \\quad x\\in\\mathbb{R}^{n}, \\quad u\\in\\mathbb{R}^{m},\\\\\n& x(t=0) = x_{0}\\;\\text{(given)}, \\quad x(t=T) = x_{T}\\;\\text{(given)},\n\\end{align*}\nwhere the nonlinear vector fields $f_{j}(x)\\in\\mathbb{R}^{n}$ for all $j=1,...,m$. We assume that the system is controllable (this can be checked by some known conditions involving the $f_j$'s, but these details are unnecessary for this problem).\n\n**Clearly write down** the first order necessary conditions of optimality for this problem, that is, the state and costate equations, PMP, transversality and boundary conditions **satisfied by the optimal solution of this OCP**.\n\n(ii) **Without doing any calculation, argue** if the Hamiltonian along the optimal solution, for this problem, is constant or not.\n\n(iii) Write the **optimal Hamiltonian only as a function of the optimal control** (meaning your expression should not be a function of any other variable). **Show all calculations**.  ",
      "metadata": {}
    },
    {
      "cell_type": "markdown",
      "source": "## (c) [(10 + 5) + 5 + 5 = 25 points] Optimal control is unitary\n(i) Define the Lie bracket of two vector fields $f(x),g(x)$ as $[f,g]:=\\frac{\\partial g}{\\partial x}f - \\frac{\\partial f}{\\partial x}g$. Use your answer in part (b)(i) to **prove that** the optimal control $u^{\\text{opt}}(t)$ for the OCP in part (b) solves an IVP\n$$\\dot{u}^{\\text{opt}} = M(x^{\\text{opt}},\\lambda^{\\text{opt}})\\:u^{\\text{opt}}, \\quad u^{\\text{opt}}(t=0) = u_{0}^{\\text{opt}}.$$\n**Derive** the $(i,j)$th entry of the matrix $M\\in\\mathbb{R}^{m\\times m}$ in terms of $x^{\\text{opt}},\\lambda^{\\text{opt}}$ and Lie brackets involving $f_{1}, ..., f_{m}$.\n\n(ii) Use your answer in part (c)(i) together with part (a), to **prove that** the optimal control is unitary (i.e., norm preserving):\n$$\\|u^{\\text{opt}}(t)\\|_{2} = \\|u_{0}^{\\text{opt}}\\|_{2}.$$\n\n(iii) Suppose we somehow (say, numerically) compute the optimal control $u^{\\text{opt}}(t)$ for the OCP in part (b)(i). **How will this optimal control change** if we change the Lagrangian in the cost-to-go from $\\|u\\|_{2}^{2}$ to $\\phi(\\|u\\|_{2}^{2})$, where $\\phi : \\mathbb{R} \\mapsto \\mathbb{R}$ is an arbitrary monotone function? **Give one sentence explanation to support your answer**.",
      "metadata": {}
    }
  ]
}