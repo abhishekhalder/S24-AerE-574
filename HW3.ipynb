{
  "metadata": {
    "kernelspec": {
      "name": "python",
      "display_name": "Python (Pyodide)",
      "language": "python"
    },
    "language_info": {
      "codemirror_mode": {
        "name": "python",
        "version": 3
      },
      "file_extension": ".py",
      "mimetype": "text/x-python",
      "name": "python",
      "nbconvert_exporter": "python",
      "pygments_lexer": "ipython3",
      "version": "3.8"
    }
  },
  "nbformat_minor": 4,
  "nbformat": 4,
  "cells": [
    {
      "cell_type": "markdown",
      "source": "# Problem 1 [25 points] Brachystochrone revisited\n\nIn this exercise, we will solve the Brachistochrone problem shown below using optimal control.\n\n![BrachystochronbeOCPurl](https://i.ibb.co/HptwnZh/Brachistochrone-OCP.png)",
      "metadata": {}
    },
    {
      "cell_type": "markdown",
      "source": "## (a) [5 points] OCP reformulation\nLet the control variable be the angle $\\theta$ that the velocity vector $V$ (tangent to the curve) makes with the horizontal axis, as shown above. Reformulate the Brachistochrone problem of going from point $A\\equiv(0,0)$ to point $B\\equiv(x_{1},y_{1})$ as a **minimum time optimal control problem** with terminal time $T$ free, and terminal state $(x(T),y(T))$ fixed. In other words, write the corresponding problem in standard OCP form following the general template.",
      "metadata": {}
    },
    {
      "cell_type": "markdown",
      "source": "## (b) [10 points] Two identities\n**Prove that** the optimal position tuple $(x(t),y(t))$ at any time $t\\in[0,T]$, is given by\n$$x(t) = x_{1} + \\frac{y_{1}}{2\\cos^{2}\\theta(T)}\\bigg\\{2\\left(\\theta(T) - \\theta(t)\\right) + \\sin\\left(2\\theta(T)\\right) - \\sin\\left(2\\theta(t)\\right)\\bigg\\}, \\quad y(t) = y_{1}\\frac{\\cos^{2}\\theta(t)}{\\cos^{2}\\theta(T)}.$$\nThe above two identities allow (numerically) solving for $(\\theta(t),\\theta(T))$ as function of $(x(t),y(t))$. This helps define optimal state feedback: $\\theta(t)$ as function of $(x(t),y(t))$.",
      "metadata": {}
    },
    {
      "cell_type": "markdown",
      "source": "## (c) [2 + 3 + 5 = 10 points] Properties of optimal solution\n(c.1) **Prove that** the optimal control $\\theta(t)$ satisfies $\\dot{\\theta} = $ constant.\n\n(c.2) **Prove that** $\\theta(0) = \\frac{\\pi}{2}$. **Give a one sentence physical interpretation** of this result.\n\n(c.3) Letting $\\phi := \\pi - 2\\theta$, use your answer in part (b) to **deduce that the optimal curve is a cycloid**.",
      "metadata": {}
    },
    {
      "cell_type": "markdown",
      "source": "# Problem 2 [25 points] Controlling national economy\n\nSuppose the scalar state $x(t)$ of national economy is governed by the second order ODE\n$$\\ddot{x} = -\\alpha^{2}x + u, \\quad \\alpha\\in\\mathbb{R}\\setminus\\{0\\}, \\quad t\\geq 0, \\quad x(0)=\\dot{x}(0)=0,$$\nwhere $u(t)$ is the effort a Government puts at time $t$ for economic reform. \n\nSuppose the Goverment would like to maximize its chance of getting re-elected at the **fixed** terminal time $T$, by bringing the national economy at a healthy state at the time of re-election, while not spending too much effort in economic reform during its tenure, i.e.,\n$$\\underset{u(\\cdot)}{\\text{maximize}}\\quad x(T) - \\int_{0}^{T}u^{2}\\;{\\mathrm{d}}t.$$\nIn practice, the Government may want to maximize an increasing function of the above cost, but we will ignore such details.",
      "metadata": {}
    },
    {
      "cell_type": "markdown",
      "source": "## (a) [2 + 3 + 8 = 13 points] Standard form\n\n(i) **Define the state vector** and **write the second order ODE in state space form**, i.e., as a controlled vector first order ODE.\n\n(ii) Use your answer in part (a)(i) to clearly **rewrite the OCP in standard form**. **Identify terminal cost/terminal constraint**, if any.\n\n(iii) Write the **Hamiltonian, the costate ODEs, the PMP**, and **the transversality condition** for the OCP in part (a)(ii).",
      "metadata": {}
    },
    {
      "cell_type": "markdown",
      "source": "## (b) [5 + (5 + 2) = 12 points] Solution of the OCP\n\n(i) Find the costates in terms of $t,\\alpha,T$.\n\n**Hint:** use the transversality conditions to solve the costate ODE initial value problem.\n\n(ii) Compute the **optimal economic reform** $u^{\\text{opt}}(t)$ for the Government. **Also compute the optimal terminal (i.e., election year) reform** $u^{\\text{opt}}(T)$.",
      "metadata": {}
    }
  ]
}