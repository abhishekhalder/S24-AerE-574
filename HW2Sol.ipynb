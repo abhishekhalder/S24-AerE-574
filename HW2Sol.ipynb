{
  "metadata": {
    "kernelspec": {
      "name": "python",
      "display_name": "Python (Pyodide)",
      "language": "python"
    },
    "language_info": {
      "codemirror_mode": {
        "name": "python",
        "version": 3
      },
      "file_extension": ".py",
      "mimetype": "text/x-python",
      "name": "python",
      "nbconvert_exporter": "python",
      "pygments_lexer": "ipython3",
      "version": "3.8"
    }
  },
  "nbformat_minor": 4,
  "nbformat": 4,
  "cells": [
    {
      "cell_type": "markdown",
      "source": "# Problem 1 [50 points] Bungee jumping and CoV\n\n![BungeeJumpUrl](https://falconsafaris.com/images/bungee-jumping-banner.jpg)\nBefore starting this exercise, please review Lec. 6. To understand the dynamics of bungee jumping shown above, we model the human as point mass $m$ attached at the end of an extensible rope of **unstretched** length $r_0$ (a constant). To account for the elasticity of the rope, we model the rope as a **linear spring** with spring constant $k>0$. Assuming the motion is constrained in a plane and that the acceleration due to gravity $g$ is constant, the dynamics becomes that of a simple pendulum with linear spring; see animation below.\n![SpringPendulumUrl](https://scipython.com/static/media/uploads/blog/double_pendulum/spring-pendulum.gif)  ",
      "metadata": {}
    },
    {
      "cell_type": "markdown",
      "source": "## (a) [25 points] Equations of motion\n\nAt time $t$, let $\\left(r,\\theta\\right)$ denote the radial and angular positions of the point mass (human), where the angle is measured w.r.t. the vertical line as usual in simple pendulum. **Using Euler-Lagrange equation, derive the equations of motion for bungee jumping as a system of coupled second order ODEs in $\\left(r,\\theta\\right)$.**  \n\n## Solution for Prob 1(a):\n\nDenoting the radial and tangential unit vectors as $\\widehat{e}_r,\\widehat{e}_{\\theta}$ respectively, the position vector for the point mass (human) is $\\boldsymbol{r} = r \\widehat{e}_r$, and its derivative $\\dot{\\boldsymbol{r}} = \\dot{r} \\widehat{e}_r + r\\dot{\\theta}\\widehat{e}_{\\theta}$.\n\nSo the kinetic energy $T$ and the potential energy $V$, are\n$$T := \\frac{1}{2}m\\langle \\dot{\\boldsymbol{r}}, \\dot{\\boldsymbol{r}}\\rangle = \\frac{1}{2}m\\left(\\dot{r}^2 + r^2\\dot{\\theta}^2\\right), \\qquad V = -mgr\\cos\\theta + \\frac{1}{2}k\\left(r - r_0\\right)^2.$$\nFrom Lec. 6 p. 3, the Lagrangian\n$$L = T - V = \\frac{1}{2}m\\left(\\dot{r}^2 + r^2\\dot{\\theta}^2\\right) + mgr\\cos\\theta - \\frac{1}{2}k\\left(r - r_0\\right)^2.$$\nLetting $\\boldsymbol{q} = \\left(r,\\theta\\right)^{\\top}$, from Lec. 6 p. 3, the EL equation is $\\dfrac{\\partial L}{\\partial \\boldsymbol{q}} = \\dfrac{\\mathrm{d}}{\\mathrm{d}t}\\dfrac{\\partial L}{\\partial \\dot{\\boldsymbol{q}}}$, or equivalently\n$$\\dfrac{\\partial L}{\\partial r} = \\dfrac{\\mathrm{d}}{\\mathrm{d}t}\\dfrac{\\partial L}{\\partial \\dot{r}}, \\qquad \\dfrac{\\partial L}{\\partial \\theta} = \\dfrac{\\mathrm{d}}{\\mathrm{d}t}\\dfrac{\\partial L}{\\partial \\dot{\\theta}}.$$\nSubstituiting our Lagrangian $L$ in above, we get the equations of motion as the following two coupled second order ODEs:\n$$m\\ddot{r} + k(r-r_0) - mr\\dot{\\theta}^2 - mg\\cos\\theta = 0, \\qquad mr^2\\ddot{\\theta} + mgr\\sin\\theta + 2mr\\dot{r}\\dot{\\theta}=0.$$",
      "metadata": {}
    },
    {
      "cell_type": "markdown",
      "source": "## (b) [(4 + 4 + 2) + 15 = 25 points] Conserved quantities\n\n(b.1) **Compute** the total energy $E$, and the Hamiltonian $H$ at a genertic time $t$. Is $H=E$ in this case?\n\n(b.2) Use your answer in part (b.1) to conclude if any of the quantities $H$ and $E$ is a constant of motion. Show all calculations.\n\n## Solution for Prob 1(b):\n\n(b.1) The total energy $E = T + V = \\frac{1}{2}m\\left(\\dot{r}^2 + r^2\\dot{\\theta}^2\\right) - mgr\\cos\\theta + \\frac{1}{2}k\\left(r - r_0\\right)^2$. The Hamiltonian $H$, from Lec. 6 p. 8, is\n$$H := \\bigg\\langle \\dot{\\boldsymbol{q}},\\dfrac{\\partial L}{\\partial\\dot{\\boldsymbol{q}}}\\bigg\\rangle - L = \\dot{r}\\underbrace{\\dfrac{\\partial L}{\\partial \\dot{r}}}_{m\\dot{r}} + \\dot{\\theta}\\underbrace{\\dfrac{\\partial L}{\\partial \\dot{\\theta}}}_{mr^2\\dot{\\theta}} - L = \\frac{1}{2}m\\left(\\dot{r}^2 + r^2\\dot{\\theta}^2\\right) - mgr\\cos\\theta + \\frac{1}{2}k\\left(r - r_0\\right)^2.$$\nTherefore, $H=E$ in this case.\n\n(b.2) Using our answer in part (b.1), we get\n\\begin{align*}\n\\dfrac{\\mathrm{d}H}{\\mathrm{d}t} = \\dfrac{\\mathrm{d}E}{\\mathrm{d}t} &= m\\dot{r}\\ddot{r} + mr\\dot{r}\\dot{\\theta}^2 + mr^2\\dot{\\theta}\\ddot{\\theta} -mg\\dot{r}\\cos\\theta + mgr\\dot{\\theta}\\sin\\theta + k(r-r_0)\\dot{r}.\n\\end{align*}\nSubsituting for $m\\ddot{r}$ and $m\\ddot{\\theta}$ from our derived equations of motion in Prob 1(a), we find that the above RHS equals to zero. Therefore, in this case, $H=E$ is constant of motion.",
      "metadata": {}
    }
  ]
}