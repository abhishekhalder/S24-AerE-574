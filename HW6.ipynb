{
  "metadata": {
    "kernelspec": {
      "name": "python",
      "display_name": "Python (Pyodide)",
      "language": "python"
    },
    "language_info": {
      "codemirror_mode": {
        "name": "python",
        "version": 3
      },
      "file_extension": ".py",
      "mimetype": "text/x-python",
      "name": "python",
      "nbconvert_exporter": "python",
      "pygments_lexer": "ipython3",
      "version": "3.8"
    }
  },
  "nbformat_minor": 4,
  "nbformat": 4,
  "cells": [
    {
      "cell_type": "markdown",
      "source": "# Problem 1. [50 points] Regulating Roll\n\nTo regulate the rolling motion of a missile, a common strategy is to actuate its hydraulic-powered ailerons. The control $u$ is the aileron deflection rate (rad/s). The state vector $(\\delta,\\omega,\\phi)^{\\top}$ comprises of the aileron deflection angle $\\delta$ (rad), the roll angular velocity $\\omega$ (rad/s), and the roll angle $\\phi$ (rad), respectively. See Fig. below.\n\n![RollingUrl](https://i.ibb.co/dcjkgy2/Rolling.jpg)\n\nThe control design objective is to\n$$\\underset{u(\\cdot)}{\\text{minimize}}\\quad\\displaystyle\\int_{0}^{\\infty}\\frac{1}{2}\\left(\\frac{\\delta^2}{\\delta_{0}^{2}}+\\frac{\\phi^2}{\\phi_{0}^{2}}+\\frac{u^2}{u_{0}^{2}}\\right)\\:{\\rm{d}}t$$\nsubject to the equations of rolling motion\n$$\\dot{\\delta}=u, \\quad \\dot{\\omega}=-\\frac{1}{\\tau}\\omega+\\frac{q}{\\tau}\\delta, \\quad \\dot{\\phi}=\\omega,$$\nwhere $\\tau$ is the rolling time constant (s), and $q$ is the aileron effectiveness constant (s$^{-1}$). The weights $(\\delta_0,\\phi_0, u_0)$ are known constants.",
      "metadata": {}
    },
    {
      "cell_type": "markdown",
      "source": "## (a) [10 + 10 = 20 points] Analysis\n\nLet $\\sigma := u_{0}P_{11}$, where $P_{11}$ is the $(1,1)$ entry of the symmetric matrix $P_{\\infty}$ that solves the associated CARE (Lec 13 p6). **Prove that** the **optimal feedback control** \n$$u^{\\text{opt}}= -u_{0}^{2}\\left[\\frac{\\sigma}{u_0} \\quad \\frac{\\tau}{2q}\\left(\\sigma^{2} - \\frac{1}{\\delta_{0}^{2}}\\right) \\quad \\frac{1}{u_0 \\phi_0}\\right] \\begin{bmatrix}\n\\delta\\\\\n\\omega\\\\\n\\phi\n\\end{bmatrix},$$\nand **that $\\sigma$ solves a quartic equation**\n$$\\sigma^{4} + \\frac{4}{u_{0}\\tau}\\sigma^{3} + \\frac{4}{u_{0}^{2}\\tau^{2}}\\left(1 - \\frac{u_{0}^{2}\\tau^{2}}{2\\delta_{0}^{2}}\\right)\\sigma^{2} - \\frac{4}{u_{0}\\tau}\\left(\\frac{2q}{\\phi_{0}u_{0}}+\\frac{1}{\\delta_{0}^{2}}\\right)\\sigma + \\left(\\frac{1}{\\delta_{0}^{4}} - \\frac{4}{\\delta_{0}^{2}u_{0}^{2}\\tau^{2}} - \\frac{8q}{\\phi_{0}u_{0}^{3}\\tau^{2}}\\right) = 0.$$",
      "metadata": {}
    },
    {
      "cell_type": "markdown",
      "source": "## (b) [(5 + 5) + (5 + 5 + 5) + 5 = 30 points] Numerics\n\nFix the parameter values in part (a) as $\\tau = 1$ s, $q = 10$ s$^{-1}$, $u_{0}=\\pi$ rad/s, $\\delta_{0}=\\pi/12$ rad, $\\phi_{0} = \\pi/180$ rad. \n\n(i) **Write a MATLAB code to verify that the system with the above parameters is controllable (hence stabilizable) and observable (hence detectable)**. For this purpose, you may use MATLAB commands $\\texttt{rank(ctrb(A,B))}$ and $\\texttt{rank(obsv(A,C))}$ for appropriately defined matrices $\\texttt{A,B,C}$. **What can you conclude about the nature of the matrix $P_{\\infty}$ from this controllability and observability verifications? Give reasons to support your answer.** (Hint: Lec. 13 p 8)\n\n(ii) Use the same MATLAB code to **compute the four roots** of the quartic equation derived in part (a). You may use the MATLAB command $\\texttt{roots}()$. **Which of these four roots should be used to compute $P_{11}$ and why?** **Use your reasoning to report the $3\\times 3$ matrix $P_{\\infty}$.** (Hint: You may find the supplementary notes on positive semidefinite matrices in the Lecture Notes folder useful)\n\n(iii) To verify your $P_{\\infty}$ reported in part (b)(ii), **compute the same using MATLAB command $\\texttt{icare}$ in the same code**. Submit your MATLAB code.",
      "metadata": {}
    }
  ]
}