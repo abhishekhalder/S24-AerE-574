{
  "metadata": {
    "kernelspec": {
      "name": "python",
      "display_name": "Python (Pyodide)",
      "language": "python"
    },
    "language_info": {
      "codemirror_mode": {
        "name": "python",
        "version": 3
      },
      "file_extension": ".py",
      "mimetype": "text/x-python",
      "name": "python",
      "nbconvert_exporter": "python",
      "pygments_lexer": "ipython3",
      "version": "3.8"
    }
  },
  "nbformat_minor": 4,
  "nbformat": 4,
  "cells": [
    {
      "cell_type": "markdown",
      "source": "# Problem 1 [50 points] Bungee jumping and CoV\n\n![BungeeJumpUrl](https://falconsafaris.com/images/bungee-jumping-banner.jpg)\nBefore starting this exercise, please review Lec. 6. To understand the dynamics of bungee jumping shown above, we model the human as point mass $m$ attached at the end of an extensible rope of **unstretched** length $r_0$ (a constant). To account for the elasticity of the rope, we model the rope as a **linear spring** with spring constant $k>0$. Assuming the motion is constrained in a plane and that the acceleration due to gravity $g$ is constant, the dynamics becomes that of a simple pendulum with linear spring; see animation below.\n![SpringPendulumUrl](https://scipython.com/static/media/uploads/blog/double_pendulum/spring-pendulum.gif)  ",
      "metadata": {}
    },
    {
      "cell_type": "markdown",
      "source": "## (a) [25 points] Equations of motion\n\nAt time $t$, let $\\left(r,\\theta\\right)$ denote the radial and angular positions of the point mass (human), where the angle is measured w.r.t. the vertical line as usual in simple pendulum. **Using Euler-Lagrange equation, derive the equations of motion for bungee jumping as a system of coupled second order ODEs in $\\left(r,\\theta\\right)$.**  ",
      "metadata": {}
    },
    {
      "cell_type": "markdown",
      "source": "## (b) [(4 + 4 + 2) + 15 = 25 points] Conserved quantities\n\n(b.1) **Compute** the total energy $E$, and the Hamiltonian $H$ at a genertic time $t$. Is $H=E$ in this case?\n\n(b.2) Use your answer in part (b.1) to conclude if any of the quantities $H$ and $E$ is a constant of motion. Show all calculations.",
      "metadata": {}
    }
  ]
}