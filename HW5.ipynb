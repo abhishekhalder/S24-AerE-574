{
  "metadata": {
    "kernelspec": {
      "name": "python",
      "display_name": "Python (Pyodide)",
      "language": "python"
    },
    "language_info": {
      "codemirror_mode": {
        "name": "python",
        "version": 3
      },
      "file_extension": ".py",
      "mimetype": "text/x-python",
      "name": "python",
      "nbconvert_exporter": "python",
      "pygments_lexer": "ipython3",
      "version": "3.8"
    }
  },
  "nbformat_minor": 4,
  "nbformat": 4,
  "cells": [
    {
      "cell_type": "markdown",
      "source": "# Problem 1. [50 Points] Platooning\nIn a single lane straight road, $N$ vehicles are moving to the right with respective 1D position coordinates $x_{1}, x_{2}, ..., x_{N}$. See Fig. showing an example scenario for $N=4$.\n\n![PaltooningPurl](https://i.ibb.co/Ytv49vL/Platooning.png)\n\nSuppose that all vehicles have identical discrete time controlled dynamics $x_{i}(k+1) = x_{i}(k) + h (u_{i}(k) - v)$, $i=1,2,...,N$, for time index $k=0,...,T-1$. The parameter $h>0$ is given constant sampling time. The control $u_{i}$ can be thought of as the speed of the $i$th vehicle, and $v$ is a **known speed limit**.\n\nHere is the high level question of interest: what should be the optimal controls such that all consecutive vehicles maintain a separation close to some (known) desired distance $d$ at all times? A separation smaller than $d$ may be unsafe, and thus undesirable. A separation more than $d$ reduces traffic throughput, and therefore also undesirable. We also want all vehicles to move at a speed close to the known speed limit $v$. ",
      "metadata": {}
    },
    {
      "cell_type": "markdown",
      "source": "## (a) [15 points] OCP formulation\nMotivated by the aforesaid objective, consider minimizing\n$$ \\frac{1}{2}\\displaystyle\\sum_{i=1}^{N-1} (x_{i+1}(T)-x_{i}(T)-d)^{2} + \\frac{1}{2}\\displaystyle\\sum_{k=0}^{T-1}\\bigg\\{\\displaystyle\\sum_{i=1}^{N-1} (x_{i+1}(k)-x_{i}(k)-d)^{2} + \\displaystyle\\sum_{i=1}^{N}(u_{i}(k) - v)^{2}\\bigg\\}$$\nsubject to $x_{i}(k+1) = x_{i}(k) + h (u_{i}(k)-v)$, $i=1,2,...,N$. Consider the final time $T$ fixed.\n\nRecast this problem as discrete time finite horizon LQ tracking by clearly defining the **state vector $x$ and its dimension**, the **control vector $u$ and its dimension**, the **output vector $y$ and its dimension**, the **desired output trajectory $y_{d}$ to track**, the **system matrices $A,B,C$**, and the **weight matrices $M,Q,R$ in the cost function**.  \n\n**Hint:** Take a look at Lec. 12 p 1-2 to see how LQ tracking problem was formulated in the continuous time case. See also part (b) to get a hint on the problem structure. It maybe helpful to define $\\mathbf{1}$ as a column vector of ones of appropriate length, and let $I$ as an identity matrix of appropriate size.",
      "metadata": {}
    },
    {
      "cell_type": "markdown",
      "source": "## (b) [20 points] Discrete time LQ tracking solution\n\n**Extend the LQR derivation** in Lec 12 p 13-18 and Lec 13 p 1-2 for the **tracking** case:\n$$\\underset{\\{u_{k}\\}_{k=0}^{T-1}}{\\text{minimize}}\\quad \\frac{1}{2}\\bigg\\{(y(T)-y_{d}(T))^{\\prime}M(y(T)-y_{d}(T)) + \\displaystyle\\sum_{k=0}^{T-1}(y(k)-y_{d}(k))^{\\prime}Q(y(k)-y_{d}(k)) + (u(k))^{\\prime}R u(k)\\bigg\\}$$\nsubject to $x(k+1) = A x(k) + B u(k)$, $y(k)=Cx(k)$, $k=0,1,...,T-1$.\n\n**Hint:** Just like the **continuous time LQ tracking** solution given in Lec. 12, here too you should get optimal control as a sum of a linear state feedback term, and a feedforward term. You need to derive a backward **vector** recursion for the feedforward control. Also derive how the Riccati backward recursion needs to be modified in this case, compared to the same for LQR.",
      "metadata": {}
    },
    {
      "cell_type": "markdown",
      "source": "## (c) [15 points] Optimal control for platooning\nApply your answer in part (b) to the formulation in part (a), to **compute and plot** $y^{\\text{opt}}(k)$ superimposed with $y_{d}(k)$. Also plot $u^{\\text{opt}}(k)$. To make these plots, fix $T=200$, $h=0.01$, $N=4$, $d=245$ ft, and the initial conditions $x_{1}(0) = 0$ ft, $x_{2}(0)=250$ ft, $x_{3}(0)=480$ ft, $x_{4}(0)=780$ ft.\n\n**Please submit your single MATLAB code generating these plots**.",
      "metadata": {}
    }
  ]
}