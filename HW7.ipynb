{
  "metadata": {
    "kernelspec": {
      "name": "python",
      "display_name": "Python (Pyodide)",
      "language": "python"
    },
    "language_info": {
      "codemirror_mode": {
        "name": "python",
        "version": 3
      },
      "file_extension": ".py",
      "mimetype": "text/x-python",
      "name": "python",
      "nbconvert_exporter": "python",
      "pygments_lexer": "ipython3",
      "version": "3.8"
    }
  },
  "nbformat_minor": 4,
  "nbformat": 4,
  "cells": [
    {
      "cell_type": "markdown",
      "source": "# Problem 1. [50 points] Moon Landing\nConsider the vertical (1D) descent of a spacecraft carrying humans onto the lunar surface. The descent phase starts at $t=0$, and the touchdown happens at (free) final time $t=T$. Because of the lack of atomosphere, the spacecraft needs to use thrust to negate free fall due to gravity, and thereby ensure soft landing. \n\n![MoonLandingUrl](https://i.ibb.co/hmKBgXK/Moon-Landing.png)\n\nLet $g$ be the constant (lunar) acceleration due to gravity during the descent. Suppose the mass of the fuel at time $t$ is $m(t)$, which changes over $0\\leq t \\leq T$ since the fuel is burnt to generate the thrust $\\tau = -k\\dot{m}$, where the velocity of exhaust gas w.r.t. the spacecraft is a constant $k>0$. Let $h(t)$ be the altitude of the spacecraft above the lunar surface at time $t$. From Newton's law (force balance), we have\n$$m\\ddot{h} = \\tau - mg = -k\\dot{m} - mg.$$\nThe initial conditions are given: $h(0):=h_{0}>0$, $\\dot{h}(0)=v_{0}<0$, $m(0)=m_{0}>0$. The terminal constraints are: $h(T)=0$, $\\dot{h}(T)=0$; **however $m(T)$ is free**. Here, the control $u$ is the rate of fuel consumption, i.e., $\\dot{m} = u$. The engine imposes the constraint: $-\\alpha \\leq u \\leq 0$, for some known constant $\\alpha>0$.\n\nSince the spacecraft with humans would like to return to Earth, the control objective is to maximize the fuel remaining $m(T)$ at touchdown, i.e., to minimize the fuel consumed: $m_{0} - m(T)$.",
      "metadata": {}
    },
    {
      "cell_type": "markdown",
      "source": "## (a) [3 + 2 + 5 = 10 points] OCP Formulation\n\n(a.1) Letting the state vector $x = (x_{1}, x_{2}, x_{3})^{\\top}\\equiv (h,\\dot{h},m)^{\\top}\\in\\mathbb{R}^{3}$, write the optimal control problem in standard **Mayer form**.\n\n(a.2) Rewrite the same optimal control problem in **Lagrange form**. \n\n(a.3) Prove that the above optimal control problem is equivalent to minimizing $T$, i.e., **the most fuel economic descent is also the fastest descent**.",
      "metadata": {}
    },
    {
      "cell_type": "markdown",
      "source": "## (b) [(2 + 2 + 4 + 2) + 2 + 8  = 20 points] Optimality Conditions\n\n(b.1) For the optimal control problem in part (a.3), write the **Hamiltonian** $H$, the **costate ODEs**, the **PMP**, and the **transversality condition**.\n\n(b.2) It can be shown that the optimal control must be non-singular for all time $t\\in[0,T]$. You don't need to prove that. Instead, use this fact and your PMP in (b.1) to **argue in 1 sentence why** the optimal control $u^{*}$ must take extreme values, i.e., $u^{*}(t)\\in\\{-\\alpha,0\\}$ for all $t\\in[0,T]$. However, it is not yet clear how many switchings are possible.\n\n(b.3) It is rather technical to prove that at most one switching is possible in this problem, i.e., $u^{*}$ is bang-bang. You don't need to prove that. Instead, use this information to **show that** the optimal control policy is to **either** use full thrust from $t=0$ to $t=T$, **or** to use a period of zero thrust (free fall) followed by full thrust until touchdown, depending on certain switching curve in the state space.",
      "metadata": {}
    },
    {
      "cell_type": "markdown",
      "source": "## [20 points] Numerics via Direct OCP Solver\n\nIn this exercise, we will use the direct optimal control solver ICLOCS2 (http://www.ee.ic.ac.uk/ICLOCS/default.htm) within MATLAB environment to numerically solve the problem in (a.3). Follow download instructions here: http://www.ee.ic.ac.uk/ICLOCS/Downloads.html (requires either IPOPT or MATLAB inbuilt fmincon, see detailed instructions in the download page). Check out the \"Example Problems\" tab and its dropdown list. Solve a listed simple example problem to reproduce the plots in the website before coding up our problem in (a.3). Submit (insert in the notebook cell) the plots for the **optimal control and optimal state trajectories** for (a.3) obtained from ICLOCS2. You don't need to submit the MATLAB codes.\n\n**Hint:** Your numerically computed optimal control should match the analytical findings in part (b). ",
      "metadata": {}
    }
  ]
}